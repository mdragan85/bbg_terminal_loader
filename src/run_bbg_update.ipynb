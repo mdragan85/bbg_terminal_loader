{
 "cells": [
  {
   "cell_type": "code",
   "execution_count": 1,
   "metadata": {},
   "outputs": [],
   "source": [
    "import pandas as pd\n",
    "import numpy as np\n",
    "\n",
    "import bbg_symbology as bbs\n",
    "from bbg_loader_core import *"
   ]
  },
  {
   "cell_type": "code",
   "execution_count": 2,
   "metadata": {},
   "outputs": [],
   "source": [
    "def merge_dict(x, y):\n",
    "    z = x.copy()   # start with x's keys and values\n",
    "    z.update(y)    # modifies z with y's keys and values & returns None\n",
    "    return z\n",
    "\n",
    "class ExpiredAliasService:\n",
    "    def __init__(self, src=None):\n",
    "        \n",
    "        self._src = src\n",
    "            \n",
    "        if src is not None:\n",
    "            self.expired = list(pd.read_csv(src, header=None)[1])\n",
    "            \n",
    "    def __contains__(self, key):\n",
    "        return key in self.expired\n",
    "    \n",
    "    def __repr__(self):\n",
    "        return '<{}: {}>'.format(self.__class__, str(self.expired))\n",
    "    \n",
    "    def add_expired(self, alias):\n",
    "        self.expired.extend([alias])\n",
    "        \n",
    "    def save(self, fname=None):\n",
    "        if fname is None:\n",
    "            fname = self._src\n",
    "            \n",
    "        if fname is None:\n",
    "            raise Error('No Filename Specified!')\n",
    "            \n",
    "        pd.Series(self.expired).to_csv(fname)"
   ]
  },
  {
   "cell_type": "code",
   "execution_count": 5,
   "metadata": {},
   "outputs": [
    {
     "name": "stdout",
     "output_type": "stream",
     "text": [
      "cl.Z25\n"
     ]
    }
   ],
   "source": [
    "INPUT_PATH = '../_in/'\n",
    "\n",
    "FUTURES_MONTHS = {m:i+1 for i,m in enumerate('FGHJKMNQUVXZ')}\n",
    "\n",
    "FutChainRef = bbs.FuturesChainReference(INPUT_PATH + 'futures_historical_chain.csv')\n",
    "BbgTckrService = bbs.BloombergTckrService()\n",
    "FutAliasRef = bbs.FuturesAliasService(INPUT_PATH + 'fut_roots.csv')\n",
    "ExpiredAliases = ExpiredAliasService('../_in/expired_aliases.csv')\n",
    "\n",
    "\n",
    "x = FutAliasRef.bbg_to_alias_tckr('CLZ5 Comdty')\n",
    "print(x)"
   ]
  },
  {
   "cell_type": "code",
   "execution_count": 7,
   "metadata": {},
   "outputs": [
    {
     "data": {
      "text/plain": [
       "20585"
      ]
     },
     "execution_count": 7,
     "metadata": {},
     "output_type": "execute_result"
    }
   ],
   "source": [
    "len(BbgTckrService.full_abb)"
   ]
  },
  {
   "cell_type": "code",
   "execution_count": 11,
   "metadata": {},
   "outputs": [],
   "source": [
    "expired_aliases = pd.Series(['cl.Z05', 'cl.Z06'])"
   ]
  },
  {
   "cell_type": "code",
   "execution_count": 13,
   "metadata": {},
   "outputs": [],
   "source": [
    "expired_aliases.to_csv('../_in/expired_aliases.csv')\n"
   ]
  },
  {
   "cell_type": "code",
   "execution_count": 37,
   "metadata": {},
   "outputs": [],
   "source": [
    "\n",
    "    \n",
    "    \n",
    "\n",
    "ExpiredAliases.add_expired('cl.Z09')\n",
    "ExpiredAliases.save()"
   ]
  },
  {
   "cell_type": "code",
   "execution_count": 38,
   "metadata": {},
   "outputs": [
    {
     "data": {
      "text/plain": [
       "<__main__.ExpiredAliasService: ['cl.Z05', 'cl.Z06', 'cl.Z09']>"
      ]
     },
     "execution_count": 38,
     "metadata": {},
     "output_type": "execute_result"
    }
   ],
   "source": [
    "ExpiredAliases = ExpiredAliasService('../_in/expired_aliases.csv')\n",
    "ExpiredAliases"
   ]
  }
 ],
 "metadata": {
  "kernelspec": {
   "display_name": "Python [conda env:python2]",
   "language": "python",
   "name": "conda-env-python2-py"
  },
  "language_info": {
   "codemirror_mode": {
    "name": "ipython",
    "version": 2
   },
   "file_extension": ".py",
   "mimetype": "text/x-python",
   "name": "python",
   "nbconvert_exporter": "python",
   "pygments_lexer": "ipython2",
   "version": "2.7.15"
  }
 },
 "nbformat": 4,
 "nbformat_minor": 1
}
